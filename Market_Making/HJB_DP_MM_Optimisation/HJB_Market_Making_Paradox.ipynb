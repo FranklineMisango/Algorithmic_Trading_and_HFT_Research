{
  "nbformat": 4,
  "nbformat_minor": 0,
  "metadata": {
    "colab": {
      "provenance": [],
      "gpuType": "T4"
    },
    "kernelspec": {
      "name": "python3",
      "display_name": "Python 3"
    },
    "language_info": {
      "name": "python"
    },
    "accelerator": "GPU"
  },
  "cells": [
    {
      "cell_type": "markdown",
      "source": [
        "#  --------------------------\n",
        " # 1. Data Loading and Preprocessing\n",
        " # --------------------------"
      ],
      "metadata": {
        "id": "TFEqbnNPmblD"
      }
    },
    {
      "cell_type": "code",
      "source": [
        "!nvcc --version\n",
        "!nvidia-smi"
      ],
      "metadata": {
        "colab": {
          "base_uri": "https://localhost:8080/"
        },
        "id": "1iHvdIktt50d",
        "outputId": "8d2f2628-b8c5-455b-f5c3-77694df478c3"
      },
      "execution_count": null,
      "outputs": [
        {
          "output_type": "stream",
          "name": "stdout",
          "text": [
            "nvcc: NVIDIA (R) Cuda compiler driver\n",
            "Copyright (c) 2005-2024 NVIDIA Corporation\n",
            "Built on Thu_Jun__6_02:18:23_PDT_2024\n",
            "Cuda compilation tools, release 12.5, V12.5.82\n",
            "Build cuda_12.5.r12.5/compiler.34385749_0\n",
            "Thu Apr  3 08:31:50 2025       \n",
            "+-----------------------------------------------------------------------------------------+\n",
            "| NVIDIA-SMI 550.54.15              Driver Version: 550.54.15      CUDA Version: 12.4     |\n",
            "|-----------------------------------------+------------------------+----------------------+\n",
            "| GPU  Name                 Persistence-M | Bus-Id          Disp.A | Volatile Uncorr. ECC |\n",
            "| Fan  Temp   Perf          Pwr:Usage/Cap |           Memory-Usage | GPU-Util  Compute M. |\n",
            "|                                         |                        |               MIG M. |\n",
            "|=========================================+========================+======================|\n",
            "|   0  Tesla T4                       Off |   00000000:00:04.0 Off |                    0 |\n",
            "| N/A   53C    P8             12W /   70W |       0MiB /  15360MiB |      0%      Default |\n",
            "|                                         |                        |                  N/A |\n",
            "+-----------------------------------------+------------------------+----------------------+\n",
            "                                                                                         \n",
            "+-----------------------------------------------------------------------------------------+\n",
            "| Processes:                                                                              |\n",
            "|  GPU   GI   CI        PID   Type   Process name                              GPU Memory |\n",
            "|        ID   ID                                                               Usage      |\n",
            "|=========================================================================================|\n",
            "|  No running processes found                                                             |\n",
            "+-----------------------------------------------------------------------------------------+\n"
          ]
        }
      ]
    },
    {
      "cell_type": "code",
      "source": [
        "!uv pip install -q --system numba-cuda==0.4.0"
      ],
      "metadata": {
        "id": "zpLCb9m1sM2o"
      },
      "execution_count": null,
      "outputs": []
    },
    {
      "cell_type": "code",
      "source": [
        "from numba import config\n",
        "config.CUDA_ENABLE_PYNVJITLINK = 1"
      ],
      "metadata": {
        "id": "6qwapoMssPKM"
      },
      "execution_count": null,
      "outputs": []
    },
    {
      "cell_type": "code",
      "source": [
        "!pip install ccxt"
      ],
      "metadata": {
        "colab": {
          "base_uri": "https://localhost:8080/"
        },
        "id": "WLPNR43IMCWP",
        "outputId": "d32ceede-7bd8-45e1-8b80-d63f937f6723"
      },
      "execution_count": null,
      "outputs": [
        {
          "output_type": "stream",
          "name": "stdout",
          "text": [
            "Collecting ccxt\n",
            "  Downloading ccxt-4.4.72-py2.py3-none-any.whl.metadata (131 kB)\n",
            "\u001b[2K     \u001b[90m━━━━━━━━━━━━━━━━━━━━━━━━━━━━━━━━━━━━━━━━\u001b[0m \u001b[32m131.0/131.0 kB\u001b[0m \u001b[31m1.6 MB/s\u001b[0m eta \u001b[36m0:00:00\u001b[0m\n",
            "\u001b[?25hRequirement already satisfied: setuptools>=60.9.0 in /usr/local/lib/python3.11/dist-packages (from ccxt) (75.2.0)\n",
            "Requirement already satisfied: certifi>=2018.1.18 in /usr/local/lib/python3.11/dist-packages (from ccxt) (2025.1.31)\n",
            "Requirement already satisfied: requests>=2.18.4 in /usr/local/lib/python3.11/dist-packages (from ccxt) (2.32.3)\n",
            "Requirement already satisfied: cryptography>=2.6.1 in /usr/local/lib/python3.11/dist-packages (from ccxt) (43.0.3)\n",
            "Requirement already satisfied: typing-extensions>=4.4.0 in /usr/local/lib/python3.11/dist-packages (from ccxt) (4.13.0)\n",
            "Collecting aiohttp<=3.10.11 (from ccxt)\n",
            "  Downloading aiohttp-3.10.11-cp311-cp311-manylinux_2_17_x86_64.manylinux2014_x86_64.whl.metadata (7.7 kB)\n",
            "Collecting aiodns>=1.1.1 (from ccxt)\n",
            "  Downloading aiodns-3.2.0-py3-none-any.whl.metadata (4.0 kB)\n",
            "Requirement already satisfied: yarl>=1.7.2 in /usr/local/lib/python3.11/dist-packages (from ccxt) (1.18.3)\n",
            "Collecting pycares>=4.0.0 (from aiodns>=1.1.1->ccxt)\n",
            "  Downloading pycares-4.5.0-cp311-cp311-manylinux_2_17_x86_64.manylinux2014_x86_64.whl.metadata (4.1 kB)\n",
            "Requirement already satisfied: aiohappyeyeballs>=2.3.0 in /usr/local/lib/python3.11/dist-packages (from aiohttp<=3.10.11->ccxt) (2.6.1)\n",
            "Requirement already satisfied: aiosignal>=1.1.2 in /usr/local/lib/python3.11/dist-packages (from aiohttp<=3.10.11->ccxt) (1.3.2)\n",
            "Requirement already satisfied: attrs>=17.3.0 in /usr/local/lib/python3.11/dist-packages (from aiohttp<=3.10.11->ccxt) (25.3.0)\n",
            "Requirement already satisfied: frozenlist>=1.1.1 in /usr/local/lib/python3.11/dist-packages (from aiohttp<=3.10.11->ccxt) (1.5.0)\n",
            "Requirement already satisfied: multidict<7.0,>=4.5 in /usr/local/lib/python3.11/dist-packages (from aiohttp<=3.10.11->ccxt) (6.2.0)\n",
            "Requirement already satisfied: cffi>=1.12 in /usr/local/lib/python3.11/dist-packages (from cryptography>=2.6.1->ccxt) (1.17.1)\n",
            "Requirement already satisfied: charset-normalizer<4,>=2 in /usr/local/lib/python3.11/dist-packages (from requests>=2.18.4->ccxt) (3.4.1)\n",
            "Requirement already satisfied: idna<4,>=2.5 in /usr/local/lib/python3.11/dist-packages (from requests>=2.18.4->ccxt) (3.10)\n",
            "Requirement already satisfied: urllib3<3,>=1.21.1 in /usr/local/lib/python3.11/dist-packages (from requests>=2.18.4->ccxt) (2.3.0)\n",
            "Requirement already satisfied: propcache>=0.2.0 in /usr/local/lib/python3.11/dist-packages (from yarl>=1.7.2->ccxt) (0.3.1)\n",
            "Requirement already satisfied: pycparser in /usr/local/lib/python3.11/dist-packages (from cffi>=1.12->cryptography>=2.6.1->ccxt) (2.22)\n",
            "Downloading ccxt-4.4.72-py2.py3-none-any.whl (5.7 MB)\n",
            "\u001b[2K   \u001b[90m━━━━━━━━━━━━━━━━━━━━━━━━━━━━━━━━━━━━━━━━\u001b[0m \u001b[32m5.7/5.7 MB\u001b[0m \u001b[31m52.9 MB/s\u001b[0m eta \u001b[36m0:00:00\u001b[0m\n",
            "\u001b[?25hDownloading aiodns-3.2.0-py3-none-any.whl (5.7 kB)\n",
            "Downloading aiohttp-3.10.11-cp311-cp311-manylinux_2_17_x86_64.manylinux2014_x86_64.whl (1.3 MB)\n",
            "\u001b[2K   \u001b[90m━━━━━━━━━━━━━━━━━━━━━━━━━━━━━━━━━━━━━━━━\u001b[0m \u001b[32m1.3/1.3 MB\u001b[0m \u001b[31m47.8 MB/s\u001b[0m eta \u001b[36m0:00:00\u001b[0m\n",
            "\u001b[?25hDownloading pycares-4.5.0-cp311-cp311-manylinux_2_17_x86_64.manylinux2014_x86_64.whl (288 kB)\n",
            "\u001b[2K   \u001b[90m━━━━━━━━━━━━━━━━━━━━━━━━━━━━━━━━━━━━━━━━\u001b[0m \u001b[32m288.6/288.6 kB\u001b[0m \u001b[31m17.7 MB/s\u001b[0m eta \u001b[36m0:00:00\u001b[0m\n",
            "\u001b[?25hInstalling collected packages: pycares, aiohttp, aiodns, ccxt\n",
            "  Attempting uninstall: aiohttp\n",
            "    Found existing installation: aiohttp 3.11.14\n",
            "    Uninstalling aiohttp-3.11.14:\n",
            "      Successfully uninstalled aiohttp-3.11.14\n",
            "Successfully installed aiodns-3.2.0 aiohttp-3.10.11 ccxt-4.4.72 pycares-4.5.0\n"
          ]
        }
      ]
    },
    {
      "cell_type": "code",
      "execution_count": null,
      "metadata": {
        "id": "sz7o8el6Ya_U"
      },
      "outputs": [],
      "source": [
        "import numpy as np\n",
        "import pandas as pd\n",
        "import cupy as cp\n",
        "from numba import jit, cuda\n",
        "import numba\n",
        "import time\n",
        "import matplotlib.pyplot as plt\n",
        "import plotly.graph_objects as go\n",
        "import pandas as pd\n",
        "import requests\n",
        "import threading\n",
        "import websocket\n",
        "import time\n",
        "from datetime import datetime, timedelta\n",
        "import json\n",
        "import ccxt"
      ]
    },
    {
      "cell_type": "code",
      "source": [
        "!curl ipinfo.io"
      ],
      "metadata": {
        "colab": {
          "base_uri": "https://localhost:8080/"
        },
        "id": "cOXCvoB5rRPy",
        "outputId": "822350d6-7ee5-4e4a-a71d-aae87a4cbb70"
      },
      "execution_count": null,
      "outputs": [
        {
          "output_type": "stream",
          "name": "stdout",
          "text": [
            "{\n",
            "  \"ip\": \"34.141.219.33\",\n",
            "  \"hostname\": \"33.219.141.34.bc.googleusercontent.com\",\n",
            "  \"city\": \"Groningen\",\n",
            "  \"region\": \"Groningen\",\n",
            "  \"country\": \"NL\",\n",
            "  \"loc\": \"53.2192,6.5667\",\n",
            "  \"org\": \"AS396982 Google LLC\",\n",
            "  \"postal\": \"9711\",\n",
            "  \"timezone\": \"Europe/Amsterdam\",\n",
            "  \"readme\": \"https://ipinfo.io/missingauth\"\n",
            "}"
          ]
        }
      ]
    },
    {
      "cell_type": "markdown",
      "source": [
        "#Fetch for like specified minutes to have sufficient data for use"
      ],
      "metadata": {
        "id": "xwOuKIXssm0K"
      }
    },
    {
      "cell_type": "code",
      "source": [
        "combined_data = []\n",
        "def on_order_book_message(ws, message):\n",
        "    global combined_data\n",
        "    data = json.loads(message)\n",
        "    timestamp = datetime.now().strftime(\"%Y-%m-%d %H:%M:%S.%f\")  # Proper timestamp format\n",
        "    bids = data['b']  # List of bids [price, quantity]\n",
        "    asks = data['a']  # List of asks [price, quantity]\n",
        "    if bids and asks:\n",
        "        bid_price = float(bids[0][0])  # Best bid price\n",
        "        ask_price = float(asks[0][0])  # Best ask price\n",
        "        # Append to combined data with placeholders for trade_price and volume\n",
        "        combined_data.append({\n",
        "            'timestamp': timestamp,\n",
        "            'bid_price': bid_price,\n",
        "            'ask_price': ask_price,\n",
        "            'trade_price': None,  # Placeholder\n",
        "            'volume': None  # Placeholder\n",
        "        })\n",
        "\n",
        "# Function to handle WebSocket messages for trade data (volume and close price)\n",
        "def on_trade_message(ws, message):\n",
        "    global combined_data\n",
        "    data = json.loads(message)\n",
        "    timestamp = datetime.now().strftime(\"%Y-%m-%d %H:%M:%S.%f\")  # Proper timestamp format\n",
        "    trade_price = float(data['k']['c'])  # Close price\n",
        "    volume = float(data['k']['v'])  # Volume\n",
        "    # Append to combined data with placeholders for bid_price and ask_price\n",
        "    combined_data.append({\n",
        "        'timestamp': timestamp,\n",
        "        'bid_price': None,  # Placeholder\n",
        "        'ask_price': None,  # Placeholder\n",
        "        'trade_price': trade_price,\n",
        "        'volume': volume\n",
        "    })\n",
        "\n",
        "# Function to run WebSocket for order book\n",
        "def run_order_book_stream(symbol):\n",
        "    url = f\"wss://stream.binance.com:9443/ws/{symbol}@depth\"\n",
        "    ws = websocket.WebSocketApp(url, on_message=on_order_book_message)\n",
        "    ws.run_forever()\n",
        "\n",
        "# Function to run WebSocket for trade data\n",
        "def run_trade_stream(symbol):\n",
        "    url = f\"wss://stream.binance.com:9443/ws/{symbol}@kline_1m\"\n",
        "    ws = websocket.WebSocketApp(url, on_message=on_trade_message)\n",
        "    ws.run_forever()\n",
        "\n",
        "# Main function to run both streams and save data\n",
        "def collect_data(symbol, duration_minutes):\n",
        "    global combined_data\n",
        "\n",
        "    # Start WebSocket threads\n",
        "    order_book_thread = threading.Thread(target=run_order_book_stream, args=(symbol,))\n",
        "    trade_thread = threading.Thread(target=run_trade_stream, args=(symbol,))\n",
        "    order_book_thread.start()\n",
        "    trade_thread.start()\n",
        "\n",
        "    # Run for the specified duration\n",
        "    end_time = datetime.now() + timedelta(minutes=duration_minutes)\n",
        "    while datetime.now() < end_time:\n",
        "        pass\n",
        "    combined_df = pd.DataFrame(combined_data)\n",
        "    combined_df = combined_df.sort_values(by='timestamp')  # Sort by timestamp\n",
        "    combined_df['bid_price'] = combined_df['bid_price'].fillna(method='ffill')\n",
        "    combined_df['ask_price'] = combined_df['ask_price'].fillna(method='ffill')\n",
        "    combined_df['trade_price'] = combined_df['trade_price'].fillna(method='ffill')\n",
        "    combined_df['volume'] = combined_df['volume'].fillna(method='ffill')\n",
        "    current_datetime = datetime.now().strftime(\"%Y-%m-%d_%H-%M\")\n",
        "    combined_df.to_csv(f\"combined_data_{current_datetime}.csv\", index=False)\n",
        "\n",
        "    print(\"Data collection complete. File saved.\")\n",
        "\n",
        "symbol = 'btcusdt'\n",
        "duration_minutes = 120\n",
        "collect_data(symbol, duration_minutes)"
      ],
      "metadata": {
        "colab": {
          "base_uri": "https://localhost:8080/"
        },
        "id": "wDK7XIrKqen4",
        "outputId": "9a91e8d0-b1e5-459b-c3f2-fda68003e63d"
      },
      "execution_count": null,
      "outputs": [
        {
          "output_type": "stream",
          "name": "stdout",
          "text": [
            "Data collection complete. File saved.\n"
          ]
        },
        {
          "output_type": "stream",
          "name": "stderr",
          "text": [
            "<ipython-input-8-1ba6319232c4>:64: FutureWarning: Series.fillna with 'method' is deprecated and will raise in a future version. Use obj.ffill() or obj.bfill() instead.\n",
            "  combined_df['bid_price'] = combined_df['bid_price'].fillna(method='ffill')\n",
            "<ipython-input-8-1ba6319232c4>:65: FutureWarning: Series.fillna with 'method' is deprecated and will raise in a future version. Use obj.ffill() or obj.bfill() instead.\n",
            "  combined_df['ask_price'] = combined_df['ask_price'].fillna(method='ffill')\n",
            "<ipython-input-8-1ba6319232c4>:66: FutureWarning: Series.fillna with 'method' is deprecated and will raise in a future version. Use obj.ffill() or obj.bfill() instead.\n",
            "  combined_df['trade_price'] = combined_df['trade_price'].fillna(method='ffill')\n",
            "<ipython-input-8-1ba6319232c4>:67: FutureWarning: Series.fillna with 'method' is deprecated and will raise in a future version. Use obj.ffill() or obj.bfill() instead.\n",
            "  combined_df['volume'] = combined_df['volume'].fillna(method='ffill')\n"
          ]
        }
      ]
    },
    {
      "cell_type": "code",
      "source": [
        "# save the file to drive\n",
        "\n"
      ],
      "metadata": {
        "id": "GahMudG_OeYT"
      },
      "execution_count": null,
      "outputs": []
    },
    {
      "cell_type": "code",
      "source": [
        "data = pd.read_csv(\"/content/combined_data_2025-04-03_06-56.csv\")\n",
        "data['timestamp'] = pd.to_datetime(data['timestamp'])\n",
        "data = data.set_index('timestamp').resample('100ms').agg({\n",
        "    #Change aggregation to 100ms for work\n",
        "    'bid_price': 'first',\n",
        "    'ask_price': 'first',\n",
        "    'trade_price': 'last',\n",
        "    'volume': 'sum'\n",
        "})\n",
        "data = data.dropna()\n",
        "data = data.reset_index()\n",
        "print(data)\n",
        "data = data.reset_index()"
      ],
      "metadata": {
        "colab": {
          "base_uri": "https://localhost:8080/"
        },
        "id": "e81M6A11hx0t",
        "outputId": "22619589-59e5-41b9-aedf-3ec128c67a8b"
      },
      "execution_count": null,
      "outputs": [
        {
          "output_type": "stream",
          "name": "stdout",
          "text": [
            "                  timestamp  bid_price  ask_price  trade_price    volume\n",
            "0   2025-04-03 06:46:14.000   83256.33   83256.34     83256.34   2.41632\n",
            "1   2025-04-03 06:46:15.000   83255.98   83256.34     83256.34   2.41632\n",
            "2   2025-04-03 06:46:16.000   83256.33   83256.34     83256.34   4.84954\n",
            "3   2025-04-03 06:46:17.000   83256.33   83256.34     83256.34   2.42646\n",
            "4   2025-04-03 06:46:18.000   83256.33   83256.34     83256.33   4.88392\n",
            "..                      ...        ...        ...          ...       ...\n",
            "672 2025-04-03 06:56:10.000   83124.74   83124.75     83120.00  25.53716\n",
            "673 2025-04-03 06:56:10.100   83128.01   83120.00     83120.00  12.76858\n",
            "674 2025-04-03 06:56:11.000   83119.99   83120.00     83120.00  19.15287\n",
            "675 2025-04-03 06:56:12.000   83119.99   83120.00     83120.00  38.35084\n",
            "676 2025-04-03 06:56:13.000   83119.99   83120.00     83120.00  19.17993\n",
            "\n",
            "[677 rows x 5 columns]\n"
          ]
        }
      ]
    },
    {
      "cell_type": "code",
      "source": [
        "initial_price = data['trade_price'][0]"
      ],
      "metadata": {
        "id": "Up2TLCC_koq_"
      },
      "execution_count": null,
      "outputs": []
    },
    {
      "cell_type": "markdown",
      "source": [
        "#Parametric formulation"
      ],
      "metadata": {
        "id": "Pu9VvEcmk5sd"
      }
    },
    {
      "cell_type": "code",
      "source": [
        "T = (data['timestamp'].max() - data['timestamp'].min()).total_seconds() # Total time\n",
        "dt = (data['timestamp'][1] - data['timestamp'][0]).total_seconds()\n",
        "N_t = len(data)\n",
        "S_0 = data['trade_price'][0]"
      ],
      "metadata": {
        "id": "vvGyZmJdkwGo"
      },
      "execution_count": null,
      "outputs": []
    },
    {
      "cell_type": "markdown",
      "source": [
        "# Model parameters"
      ],
      "metadata": {
        "id": "YvLNB6valbqW"
      }
    },
    {
      "cell_type": "code",
      "source": [
        "sigma = 0.2  #\n",
        "kappa = 0.001\n",
        "gamma = 0.0001\n",
        "rho = 0.01\n",
        "market_impact_param = 0.0001\n",
        "inventory_max = 100"
      ],
      "metadata": {
        "id": "vjPNiWoXleH_"
      },
      "execution_count": null,
      "outputs": []
    },
    {
      "cell_type": "markdown",
      "source": [
        "# State Space Discretization\n"
      ],
      "metadata": {
        "id": "vPzybomRlsz1"
      }
    },
    {
      "cell_type": "code",
      "source": [
        "N_S = 101\n",
        "N_I = 2 * 51 - 1\n",
        "S_min = data['trade_price'].min() * 0.9\n",
        "S_max = data['trade_price'].max() * 1.1\n",
        "ds = (S_max - S_min) / (N_S - 1)\n",
        "di = inventory_max / (N_I // 2)\n",
        "S = np.linspace(S_min, S_max, N_S)\n",
        "I = np.linspace(-inventory_max, inventory_max, N_I)\n",
        "S_gpu = cp.asarray(S)\n",
        "I_gpu = cp.asarray(I)"
      ],
      "metadata": {
        "id": "8r2q4gk9lj3U"
      },
      "execution_count": null,
      "outputs": []
    },
    {
      "cell_type": "markdown",
      "source": [
        " # --------------------------\n",
        " # 2. Order Book Simulation\n",
        " # --------------------------"
      ],
      "metadata": {
        "id": "nct_m4xBmUdZ"
      }
    },
    {
      "cell_type": "code",
      "source": [
        "class OrderBook:\n",
        "    def __init__(self):\n",
        "        self.bids = {}  # {price: volume}\n",
        "        self.asks = {}\n",
        "\n",
        "    def process_order(self, price, volume, is_bid):\n",
        "        if is_bid:\n",
        "            self.bids[price] = self.bids.get(price, 0) + volume\n",
        "        else:\n",
        "            self.asks[price] = self.asks.get(price, 0) + volume\n",
        "\n",
        "    def execute_market_order(self, volume, is_bid):\n",
        "        executed_volume = 0\n",
        "        cost = 0\n",
        "\n",
        "        if is_bid:  # Buying\n",
        "            ask_prices = sorted(self.asks.keys())\n",
        "            for price in ask_prices:\n",
        "                available_volume = self.asks[price]\n",
        "                trade_volume = min(volume - executed_volume, available_volume)\n",
        "                cost += trade_volume * price\n",
        "                executed_volume += trade_volume\n",
        "                self.asks[price] -= trade_volume\n",
        "                if self.asks[price] == 0:\n",
        "                    del self.asks[price]\n",
        "                if executed_volume == volume:\n",
        "                    break\n",
        "        else:  # Selling\n",
        "            bid_prices = sorted(self.bids.keys(), reverse=True)\n",
        "            for price in bid_prices:\n",
        "                available_volume = self.bids[price]\n",
        "                trade_volume = min(volume - executed_volume, available_volume)\n",
        "                cost += trade_volume * price\n",
        "                executed_volume += trade_volume\n",
        "                self.bids[price] -= trade_volume\n",
        "                if self.bids[price] == 0:\n",
        "                    del self.bids[price]\n",
        "                if executed_volume == volume:\n",
        "                    break\n",
        "\n",
        "        if executed_volume < volume:\n",
        "            print(f\"Warning: Could not execute full order ({volume}), only executed {executed_volume}\")\n",
        "\n",
        "        return cost, executed_volume\n",
        "\n",
        "    def get_best_bid_ask(self):\n",
        "        best_bid = max(self.bids.keys()) if self.bids else 0\n",
        "        best_ask = min(self.asks.keys()) if self.asks else float('inf')\n",
        "        return best_bid, best_ask"
      ],
      "metadata": {
        "id": "BZCWHCz8l1BW"
      },
      "execution_count": null,
      "outputs": []
    },
    {
      "cell_type": "markdown",
      "source": [
        "# --------------------------\n",
        " # 3. HJB Equation Solver\n",
        " # --------------------------"
      ],
      "metadata": {
        "id": "NpjygxxwnVLw"
      }
    },
    {
      "cell_type": "code",
      "source": [
        "# Utility function (risk aversion)\n",
        "def U(x, rho):\n",
        "    return -cp.exp(-rho * x)\n",
        "\n",
        "\n",
        "@cuda.jit\n",
        "def HJB_step_gpu(V_next, V_current, S, I, dt, ds, di, sigma, kappa, gamma, rho,\n",
        "                 best_bid, best_ask, market_impact_param):\n",
        "    s_idx, i_idx = cuda.grid(2)\n",
        "\n",
        "    if s_idx > 0 and s_idx < S.shape[0] - 1 and i_idx > 0 and i_idx < I.shape[0] - 1:\n",
        "        St = S[s_idx]\n",
        "        It = I[i_idx]\n",
        "\n",
        "        V_S_plus = V_next[s_idx + 1, i_idx]\n",
        "        V_S_minus = V_next[s_idx - 1, i_idx]\n",
        "        V_I_plus = V_next[s_idx, i_idx + 1]\n",
        "        V_I_minus = V_next[s_idx, i_idx - 1]\n",
        "\n",
        "        V_S = (V_S_plus - V_S_minus) / (2 * ds)\n",
        "        V_SS = (V_S_plus - 2 * V_next[s_idx, i_idx] + V_S_minus) / (ds**2)\n",
        "        V_I = (V_I_plus - V_I_minus) / (2 * di)\n",
        "\n",
        "        # ---Market Maker's Control: Bid/Ask Spread---\n",
        "        # ---This is a simplified control; in reality, it's a continuous optimization---\n",
        "\n",
        "        # Replace Python list with a fixed-size array\n",
        "        spread_change = cuda.local.array(5, dtype=numba.float32)\n",
        "        spread_change[0] = -2 * ds\n",
        "        spread_change[1] = -ds\n",
        "        spread_change[2] = 0\n",
        "        spread_change[3] = ds\n",
        "        spread_change[4] = 2 * ds\n",
        "\n",
        "        V_optimal = -float('inf')\n",
        "\n",
        "        for i in range(5):  # Iterate over spread_change array\n",
        "            for j in range(5):\n",
        "                d_bid = spread_change[i]\n",
        "                d_ask = spread_change[j]\n",
        "\n",
        "                new_bid = best_bid + d_bid\n",
        "                new_ask = best_ask + d_ask\n",
        "\n",
        "                if new_bid > 0 and new_ask > 0 and new_bid < new_ask:  # Ensure valid prices\n",
        "                    # ---Simplified model of order arrival and execution---\n",
        "                    expected_buy = dt * 1  # Placeholder - Model order arrival better\n",
        "                    expected_sell = dt * 1\n",
        "\n",
        "                    expected_cost = (new_ask + market_impact_param * expected_buy) * expected_buy - \\\n",
        "                                    (new_bid - market_impact_param * expected_sell) * expected_sell\n",
        "\n",
        "                    V_trade = -gamma * expected_cost + V_next[s_idx, i_idx] - kappa * It**2 * dt + \\\n",
        "                              dt * (0.5 * sigma**2 * St**2 * V_SS)\n",
        "\n",
        "                    V_optimal = max(V_optimal, V_trade)\n",
        "\n",
        "        V_current[s_idx, i_idx] = V_optimal\n",
        "\n",
        "\n",
        "def solve_HJB_gpu(S_gpu, I_gpu, dt, ds, di, sigma, kappa, gamma, rho, U, N_t, data):\n",
        "    V = cp.zeros((N_S, N_I, N_t))\n",
        "    V[:, :, -1] = U(cp.zeros((N_S, N_I)), rho)  # Terminal condition\n",
        "\n",
        "    threadsperblock = (8, 8)\n",
        "    blockspergrid_x = int(np.ceil(V.shape[0] / threadsperblock[0]))\n",
        "    blockspergrid_y = int(np.ceil(V.shape[1] / threadsperblock[1]))\n",
        "    blockspergrid = (blockspergrid_x, blockspergrid_y)\n",
        "\n",
        "    for n in range(N_t - 2, -1, -1):\n",
        "        best_bid = data['bid_price'][n]\n",
        "        best_ask = data['ask_price'][n]\n",
        "\n",
        "        HJB_step_gpu[blockspergrid, threadsperblock](\n",
        "            V[:, :, n + 1], V[:, :, n], S_gpu, I_gpu, dt, ds, di,\n",
        "            sigma, kappa, gamma, rho, best_bid, best_ask, market_impact_param\n",
        "        )\n",
        "\n",
        "    return cp.asnumpy(V)"
      ],
      "metadata": {
        "id": "57kBjgZAnJ2M"
      },
      "execution_count": null,
      "outputs": []
    },
    {
      "cell_type": "code",
      "source": [
        "start_time = time.time()\n",
        "V_optimal = solve_HJB_gpu(S_gpu, I_gpu, dt, ds, di, sigma, kappa, gamma, rho, U, N_t, data)\n",
        "end_time = time.time()\n",
        "print(f\"HJB Solver Time: {end_time - start_time} seconds\")\n"
      ],
      "metadata": {
        "colab": {
          "base_uri": "https://localhost:8080/"
        },
        "id": "FeNM805hopwK",
        "outputId": "19fabf35-5916-4718-af43-4c1577660f49"
      },
      "execution_count": null,
      "outputs": [
        {
          "output_type": "stream",
          "name": "stdout",
          "text": [
            "HJB Solver Time: 0.8226680755615234 seconds\n"
          ]
        }
      ]
    },
    {
      "cell_type": "markdown",
      "source": [
        "#  --------------------------\n",
        " # 5. Extract Policy and Simulate Trades\n",
        " # --------------------------\n",
        "\n"
      ],
      "metadata": {
        "id": "XewBbTxjtePC"
      }
    },
    {
      "cell_type": "code",
      "source": [
        "def get_policy(V, S, I, data, ds):\n",
        "    policy = np.zeros((V.shape[0], V.shape[1], V.shape[2], 2))  # [bid_change, ask_change]\n",
        "\n",
        "    for t_idx in range(V.shape[2]):\n",
        "        best_bid = data['bid_price'][t_idx]\n",
        "        best_ask = data['ask_price'][t_idx]\n",
        "\n",
        "        for s_idx in range(1, V.shape[0] - 1):\n",
        "            for i_idx in range(1, V.shape[1] - 1):\n",
        "\n",
        "                optimal_action = [0, 0]  # [bid_change, ask_change]\n",
        "                optimal_value = -float('inf')\n",
        "\n",
        "                for d_bid in [-2 * ds, -ds, 0, ds, 2 * ds]:\n",
        "                    for d_ask in [-2 * ds, -ds, 0, ds, 2 * ds]:\n",
        "\n",
        "                        new_bid = best_bid + d_bid\n",
        "                        new_ask = best_ask + d_ask\n",
        "\n",
        "                        if new_bid > 0 and new_ask > 0 and new_bid < new_ask:\n",
        "                            value = V[s_idx, i_idx, t_idx]  # Placeholder\n",
        "\n",
        "                            if value > optimal_value:\n",
        "                                optimal_value = value\n",
        "                                optimal_action = [d_bid, d_ask]\n",
        "\n",
        "                policy[s_idx, i_idx, t_idx] = optimal_action\n",
        "\n",
        "    return policy\n",
        "\n",
        "\n",
        "optimal_policy = get_policy(V_optimal, S, I, data, ds)\n"
      ],
      "metadata": {
        "id": "swb3uzefqxjM"
      },
      "execution_count": null,
      "outputs": []
    },
    {
      "cell_type": "code",
      "source": [
        "\n",
        "def simulate_trades_with_order_book(data, S, I, policy, initial_wealth,\n",
        "                                    initial_inventory, market_impact_param, gamma):\n",
        "    wealth = initial_wealth\n",
        "    inventory = initial_inventory\n",
        "    order_book = OrderBook()\n",
        "\n",
        "    wealth_history = [wealth]\n",
        "    inventory_history = [inventory]\n",
        "    bid_history = []\n",
        "    ask_history = []\n",
        "\n",
        "    for t_idx in range(len(data) - 1):\n",
        "\n",
        "        # ---Get current market state---\n",
        "        current_price = data['trade_price'][t_idx]\n",
        "\n",
        "        # ---Find closest state indices---\n",
        "        s_idx = np.argmin(np.abs(S - current_price))\n",
        "        i_idx = np.argmin(np.abs(I - inventory))\n",
        "\n",
        "        # ---Get action from policy---\n",
        "        bid_change, ask_change = policy[min(s_idx, policy.shape[0] - 1),\n",
        "                                        min(i_idx, policy.shape[1] - 1),\n",
        "                                        t_idx]\n",
        "\n",
        "        # ---Set market maker's quotes---\n",
        "        best_bid, best_ask = order_book.get_best_bid_ask()\n",
        "        if best_bid == 0:\n",
        "            best_bid = data['bid_price'][t_idx]\n",
        "        if best_ask == float('inf'):\n",
        "            best_ask = data['ask_price'][t_idx]\n",
        "\n",
        "        mm_bid = best_bid + bid_change\n",
        "        mm_ask = best_ask + ask_change\n",
        "\n",
        "        bid_history.append(mm_bid)\n",
        "        ask_history.append(mm_ask)\n",
        "\n",
        "        # ---Market orders from data---\n",
        "        market_buy_volume = data['volume'][t_idx] if data['trade_price'][t_idx] > current_price else 0\n",
        "        market_sell_volume = data['volume'][t_idx] if data['trade_price'][t_idx] < current_price else 0\n",
        "\n",
        "        # ---Execute market maker trades---\n",
        "        if mm_bid >= best_ask:  # Market maker buys\n",
        "            cost, executed_volume = order_book.execute_market_order(1, True)\n",
        "            wealth -= cost * (1 + gamma)\n",
        "            inventory += executed_volume\n",
        "        elif mm_ask <= best_bid:  # Market maker sells\n",
        "            revenue, executed_volume = order_book.execute_market_order(1, False)\n",
        "            wealth += revenue * (1 - gamma)\n",
        "            inventory -= executed_volume\n",
        "        else:\n",
        "            order_book.process_order(mm_bid, 1, True)\n",
        "            order_book.process_order(mm_ask, 1, False)\n",
        "\n",
        "        # ---Update order book with market orders---\n",
        "        order_book.execute_market_order(market_buy_volume, True)\n",
        "        order_book.execute_market_order(market_sell_volume, False)\n",
        "\n",
        "        wealth_history.append(wealth)\n",
        "        inventory_history.append(inventory)\n",
        "\n",
        "    return wealth_history, inventory_history, bid_history, ask_history\n",
        "\n",
        "\n",
        "# ---Backtesting Parameters---\n",
        "initial_wealth = 1000\n",
        "initial_inventory = 0\n",
        "\n",
        "# Run the simulation\n",
        "wealth_history, inventory_history, bid_history, ask_history = simulate_trades_with_order_book(\n",
        "    data, S, I, optimal_policy, initial_wealth, initial_inventory, market_impact_param, gamma\n",
        ")\n",
        "\n",
        "# Print final results\n",
        "print(\"Simulation Results:\")\n",
        "print(f\"Final Wealth: {wealth_history[-1]}\")\n",
        "print(f\"Final Inventory: {inventory_history[-1]}\")\n",
        "\n",
        "# Plot results\n",
        "import matplotlib.pyplot as plt\n",
        "\n",
        "# Wealth plot\n",
        "plt.figure(figsize=(10, 5))\n",
        "plt.plot(wealth_history, label=\"Wealth\")\n",
        "plt.xlabel(\"Time Step\")\n",
        "plt.ylabel(\"Wealth\")\n",
        "plt.title(\"Wealth Over Time\")\n",
        "plt.legend()\n",
        "plt.show()\n",
        "\n",
        "# Inventory plot\n",
        "plt.figure(figsize=(10, 5))\n",
        "plt.plot(inventory_history, label=\"Inventory\", color=\"orange\")\n",
        "plt.xlabel(\"Time Step\")\n",
        "plt.ylabel(\"Inventory\")\n",
        "plt.title(\"Inventory Over Time\")\n",
        "plt.legend()\n",
        "plt.show()"
      ],
      "metadata": {
        "colab": {
          "base_uri": "https://localhost:8080/",
          "height": 810
        },
        "id": "-Y_N99mOtjtP",
        "outputId": "7e2654bd-e330-4f79-a74f-7882411348b8"
      },
      "execution_count": null,
      "outputs": [
        {
          "output_type": "stream",
          "name": "stdout",
          "text": [
            "Simulation Results:\n",
            "Final Wealth: 6411096.336259009\n",
            "Final Inventory: -77\n"
          ]
        },
        {
          "output_type": "display_data",
          "data": {
            "text/plain": [
              "<Figure size 1000x500 with 1 Axes>"
            ],
            "image/png": "[encoded data removed]"
          },
          "metadata": {}
        },
        {
          "output_type": "display_data",
          "data": {
            "text/plain": [
              "<Figure size 1000x500 with 1 Axes>"
            ],
            "image/png": "[encoded data removed]"
          },
          "metadata": {}
        }
      ]
    },
    {
      "cell_type": "markdown",
      "source": [],
      "metadata": {
        "id": "9gnXiMjrtWED"
      }
    }
  ]
}