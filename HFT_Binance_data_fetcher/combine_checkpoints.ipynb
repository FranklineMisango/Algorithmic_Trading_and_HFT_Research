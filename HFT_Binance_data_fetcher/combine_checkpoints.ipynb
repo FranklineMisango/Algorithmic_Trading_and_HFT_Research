{
 "cells": [
  {
   "cell_type": "markdown",
   "id": "377b6f40",
   "metadata": {},
   "source": [
    "# This simple snippet is to read the crypto_data folder and combine the checkpoints plus the final 2h dataset to a single dataset"
   ]
  },
  {
   "cell_type": "code",
   "execution_count": 1,
   "id": "c36c7c84",
   "metadata": {},
   "outputs": [],
   "source": [
    "import os\n",
    "import pandas as pd\n"
   ]
  },
  {
   "cell_type": "code",
   "execution_count": 2,
   "id": "339cad35",
   "metadata": {},
   "outputs": [
    {
     "name": "stdout",
     "output_type": "stream",
     "text": [
      "Combined DataFrame:\n",
      "                 timestamp  bid_price  ask_price  trade_price       volume  \\\n",
      "0  2025-04-15 18:22:57.214   85675.98   85675.99     85675.98  4717.319460   \n",
      "1  2025-04-15 18:22:57.225   85675.98   85675.99     85675.98  4717.319460   \n",
      "2  2025-04-15 18:22:57.229   85675.98   85675.99     85675.98  4717.319460   \n",
      "3  2025-04-15 18:22:57.231   85675.98   85675.99     85675.98  4717.319460   \n",
      "4  2025-04-15 18:22:57.232   85675.98   85675.99     85675.98  4717.319460   \n",
      "5  2025-04-15 18:22:57.237   85675.98   85675.99     85675.98  4717.319460   \n",
      "6  2025-04-15 18:22:57.250   85675.98   85675.99     85675.99  4717.319460   \n",
      "7  2025-04-15 18:22:57.314   85675.98   85675.99     85675.99     0.000000   \n",
      "8  2025-04-15 18:22:57.414   85675.98   85851.77     85675.98    37.697433   \n",
      "9  2025-04-15 18:22:57.444   85675.98   85851.77     85675.98    37.697433   \n",
      "\n",
      "   mid_price  \n",
      "0  85675.985  \n",
      "1  85675.985  \n",
      "2  85675.985  \n",
      "3  85675.985  \n",
      "4  85675.985  \n",
      "5  85675.985  \n",
      "6  85675.985  \n",
      "7  85675.985  \n",
      "8  85763.875  \n",
      "9  85763.875  \n"
     ]
    }
   ],
   "source": [
    "folder_path = 'crypto_data'\n",
    "if not os.path.exists(folder_path):\n",
    "    raise FileNotFoundError(f\"The folder '{folder_path}' does not exist.\")\n",
    "csv_files = [f for f in os.listdir(folder_path) if f.endswith('.csv')]\n",
    "if not csv_files:\n",
    "    raise ValueError(\"No CSV files found in the specified folder.\")\n",
    "csv_files_sorted = sorted(\n",
    "    csv_files,\n",
    "    key=lambda x: int(x.split('_checkpoint_')[1].split('_')[0]) if 'checkpoint' in x else float('inf')\n",
    ")\n",
    "combined_df = pd.DataFrame()\n",
    "for file in csv_files_sorted:\n",
    "    file_path = os.path.join(folder_path, file)\n",
    "    try:\n",
    "        temp_df = pd.read_csv(file_path)\n",
    "        combined_df = pd.concat([combined_df, temp_df], ignore_index=True)\n",
    "    except Exception as e:\n",
    "        print(f\"Error reading file {file}: {e}\")\n",
    "print(\"Combined DataFrame:\")\n",
    "print(combined_df.head(10))"
   ]
  },
  {
   "cell_type": "code",
   "execution_count": 9,
   "id": "9f4c704c",
   "metadata": {},
   "outputs": [],
   "source": [
    "# Save the combined DataFrame to a new CSV file\n",
    "combined_df.to_csv('HFT_2_hr_combined_crypto_data.csv', index=False)"
   ]
  }
 ],
 "metadata": {
  "kernelspec": {
   "display_name": "coding_env",
   "language": "python",
   "name": "python3"
  },
  "language_info": {
   "codemirror_mode": {
    "name": "ipython",
    "version": 3
   },
   "file_extension": ".py",
   "mimetype": "text/x-python",
   "name": "python",
   "nbconvert_exporter": "python",
   "pygments_lexer": "ipython3",
   "version": "3.12.3"
  }
 },
 "nbformat": 4,
 "nbformat_minor": 5
}
