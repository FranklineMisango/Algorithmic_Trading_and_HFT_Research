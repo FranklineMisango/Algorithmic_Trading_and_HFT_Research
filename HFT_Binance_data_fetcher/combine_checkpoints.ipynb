{
 "cells": [
  {
   "cell_type": "markdown",
   "id": "377b6f40",
   "metadata": {},
   "source": [
    "# This simple snippet is to read the crypto_data folder and combine the checkpoints plus the final 2h dataset to a single dataset"
   ]
  },
  {
   "cell_type": "code",
   "execution_count": 1,
   "id": "c36c7c84",
   "metadata": {},
   "outputs": [],
   "source": [
    "import os\n",
    "import pandas as pd\n"
   ]
  },
  {
   "cell_type": "code",
   "execution_count": 5,
   "id": "339cad35",
   "metadata": {},
   "outputs": [
    {
     "name": "stdout",
     "output_type": "stream",
     "text": [
      "Combined DataFrame:\n",
      "                 timestamp  bid_price  ask_price  trade_price       volume  \\\n",
      "0  2025-04-15 18:22:57.214   85675.98   85675.99     85675.98  4717.319460   \n",
      "1  2025-04-15 18:22:57.225   85675.98   85675.99     85675.98  4717.319460   \n",
      "2  2025-04-15 18:22:57.229   85675.98   85675.99     85675.98  4717.319460   \n",
      "3  2025-04-15 18:22:57.231   85675.98   85675.99     85675.98  4717.319460   \n",
      "4  2025-04-15 18:22:57.232   85675.98   85675.99     85675.98  4717.319460   \n",
      "5  2025-04-15 18:22:57.237   85675.98   85675.99     85675.98  4717.319460   \n",
      "6  2025-04-15 18:22:57.250   85675.98   85675.99     85675.99  4717.319460   \n",
      "7  2025-04-15 18:22:57.314   85675.98   85675.99     85675.99     0.000000   \n",
      "8  2025-04-15 18:22:57.414   85675.98   85851.77     85675.98    37.697433   \n",
      "9  2025-04-15 18:22:57.444   85675.98   85851.77     85675.98    37.697433   \n",
      "\n",
      "   mid_price  \n",
      "0  85675.985  \n",
      "1  85675.985  \n",
      "2  85675.985  \n",
      "3  85675.985  \n",
      "4  85675.985  \n",
      "5  85675.985  \n",
      "6  85675.985  \n",
      "7  85675.985  \n",
      "8  85763.875  \n",
      "9  85763.875  \n"
     ]
    }
   ],
   "source": [
    "folder_path = 'crypto_data'\n",
    "if not os.path.exists(folder_path):\n",
    "    raise FileNotFoundError(f\"The folder '{folder_path}' does not exist.\")\n",
    "csv_files = [f for f in os.listdir(folder_path) if f.endswith('.csv')]\n",
    "if not csv_files:\n",
    "    raise ValueError(\"No CSV files found in the specified folder.\")\n",
    "csv_files_sorted = sorted(\n",
    "    csv_files,\n",
    "    key=lambda x: int(x.split('_checkpoint_')[1].split('_')[0]) if 'checkpoint' in x else float('inf')\n",
    ")\n",
    "combined_df = pd.DataFrame()\n",
    "for file in csv_files_sorted:\n",
    "    file_path = os.path.join(folder_path, file)\n",
    "    try:\n",
    "        temp_df = pd.read_csv(file_path)\n",
    "        combined_df = pd.concat([combined_df, temp_df], ignore_index=True)\n",
    "    except Exception as e:\n",
    "        print(f\"Error reading file {file}: {e}\")\n",
    "print(\"Combined DataFrame:\")\n",
    "print(combined_df.head(10))"
   ]
  },
  {
   "cell_type": "markdown",
   "id": "b53cc83d",
   "metadata": {},
   "source": [
    "# Resampling to 1s for rapid check of a trend at a particular duration ie 2 hours\n"
   ]
  },
  {
   "cell_type": "code",
   "execution_count": null,
   "id": "e79792a6",
   "metadata": {},
   "outputs": [
    {
     "name": "stdout",
     "output_type": "stream",
     "text": [
      "            timestamp  bid_price  ask_price  trade_price        volume  \\\n",
      "0 2025-04-15 18:22:57   85675.98   85675.99     85675.99  33134.328517   \n",
      "1 2025-04-15 18:22:58   85675.98   85672.76     85672.75  15856.344824   \n",
      "2 2025-04-15 18:22:59   85672.75   85672.76     85672.76  30159.381701   \n",
      "3 2025-04-15 18:23:00   85590.49   85672.76     85672.76  29541.681057   \n",
      "4 2025-04-15 18:23:01   85670.00   85672.76     85675.23  44950.784471   \n",
      "\n",
      "   mid_price  \n",
      "0  85675.985  \n",
      "1  85674.370  \n",
      "2  85672.755  \n",
      "3  85631.625  \n",
      "4  85671.380  \n",
      "Original rows: 120677\n",
      "Resampled rows: 7200\n"
     ]
    }
   ],
   "source": [
    "combined_df['timestamp'] = pd.to_datetime(combined_df['timestamp'])\n",
    "combined_df = combined_df.set_index('timestamp')\n",
    "resampled_df = combined_df.resample('1s').agg({\n",
    "    'bid_price': 'last',      # Last bid price in the second\n",
    "    'ask_price': 'last',      # Last ask price in the second\n",
    "    'trade_price': 'last',    # Last trade price in the second\n",
    "    'volume': 'sum',          # Sum of volume within the second\n",
    "    'mid_price': 'last'       # Last mid price in the second\n",
    "})\n",
    "\n",
    "resampled_df = resampled_df.reset_index()\n",
    "\n",
    "# Show the result\n",
    "print(resampled_df.head())\n",
    "\n",
    "# Check the reduction in rows\n",
    "print(f\"Original rows: {len(combined_df)}\")\n",
    "print(f\"Resampled rows: {len(resampled_df)}\")\n",
    "\n"
   ]
  },
  {
   "cell_type": "code",
   "execution_count": 9,
   "id": "577f36bb",
   "metadata": {},
   "outputs": [],
   "source": [
    "# Save the 1s data : \n",
    "resampled_df.to_csv('HFT_2_hr_combined_crypto_data_1s.csv', index=False)"
   ]
  },
  {
   "cell_type": "code",
   "execution_count": 8,
   "id": "9f4c704c",
   "metadata": {},
   "outputs": [],
   "source": [
    "# Save the combined DataFrame to a new CSV file\n",
    "combined_df.to_csv('HFT_2_hr_combined_crypto_data.csv', index=False)"
   ]
  }
 ],
 "metadata": {
  "kernelspec": {
   "display_name": "coding_env",
   "language": "python",
   "name": "python3"
  },
  "language_info": {
   "codemirror_mode": {
    "name": "ipython",
    "version": 3
   },
   "file_extension": ".py",
   "mimetype": "text/x-python",
   "name": "python",
   "nbconvert_exporter": "python",
   "pygments_lexer": "ipython3",
   "version": "3.12.3"
  }
 },
 "nbformat": 4,
 "nbformat_minor": 5
}
